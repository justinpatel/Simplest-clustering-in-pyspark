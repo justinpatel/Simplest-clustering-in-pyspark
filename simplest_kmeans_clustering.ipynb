{
 "cells": [
  {
   "cell_type": "markdown",
   "id": "d557993b",
   "metadata": {},
   "source": [
    "# Example 1"
   ]
  },
  {
   "cell_type": "code",
   "execution_count": 1,
   "id": "c6161d99",
   "metadata": {},
   "outputs": [],
   "source": [
    "path = '/home/justin/Desktop/spark/Ex_Files_Spark_ML_AI/Exercise Files/Ch03/03_02/clustering_dataset.csv'"
   ]
  },
  {
   "cell_type": "code",
   "execution_count": 2,
   "id": "659cd132",
   "metadata": {},
   "outputs": [],
   "source": [
    "df = spark.read.csv(path, header = True, inferSchema = True)"
   ]
  },
  {
   "cell_type": "code",
   "execution_count": 3,
   "id": "fac0d97c",
   "metadata": {},
   "outputs": [
    {
     "name": "stdout",
     "output_type": "stream",
     "text": [
      "+----+----+----+\n",
      "|col1|col2|col3|\n",
      "+----+----+----+\n",
      "|   7|   4|   1|\n",
      "|   7|   7|   9|\n",
      "|   7|   9|   6|\n",
      "|   1|   6|   5|\n",
      "|   6|   7|   7|\n",
      "|   7|   9|   4|\n",
      "|   7|  10|   6|\n",
      "|   7|   8|   2|\n",
      "|   8|   3|   8|\n",
      "|   4|  10|   5|\n",
      "|   7|   4|   5|\n",
      "|   7|   8|   4|\n",
      "|   2|   5|   1|\n",
      "|   2|   6|   2|\n",
      "|   2|   3|   8|\n",
      "|   3|   9|   1|\n",
      "|   4|   2|   9|\n",
      "|   1|   7|   1|\n",
      "|   6|   2|   3|\n",
      "|   4|   1|   9|\n",
      "+----+----+----+\n",
      "only showing top 20 rows\n",
      "\n"
     ]
    }
   ],
   "source": [
    "df.show()"
   ]
  },
  {
   "cell_type": "code",
   "execution_count": 4,
   "id": "c44d600d",
   "metadata": {},
   "outputs": [],
   "source": [
    "from pyspark.ml.feature import VectorAssembler"
   ]
  },
  {
   "cell_type": "code",
   "execution_count": 51,
   "id": "4e196af8",
   "metadata": {},
   "outputs": [],
   "source": [
    "feature_df = VectorAssembler(inputCols = ['col1','col2','col3'], outputCol = 'features').transform(df)"
   ]
  },
  {
   "cell_type": "code",
   "execution_count": 52,
   "id": "f17a94be",
   "metadata": {},
   "outputs": [
    {
     "name": "stdout",
     "output_type": "stream",
     "text": [
      "+----+----+----+--------------+\n",
      "|col1|col2|col3|      features|\n",
      "+----+----+----+--------------+\n",
      "|   7|   4|   1| [7.0,4.0,1.0]|\n",
      "|   7|   7|   9| [7.0,7.0,9.0]|\n",
      "|   7|   9|   6| [7.0,9.0,6.0]|\n",
      "|   1|   6|   5| [1.0,6.0,5.0]|\n",
      "|   6|   7|   7| [6.0,7.0,7.0]|\n",
      "|   7|   9|   4| [7.0,9.0,4.0]|\n",
      "|   7|  10|   6|[7.0,10.0,6.0]|\n",
      "|   7|   8|   2| [7.0,8.0,2.0]|\n",
      "|   8|   3|   8| [8.0,3.0,8.0]|\n",
      "|   4|  10|   5|[4.0,10.0,5.0]|\n",
      "|   7|   4|   5| [7.0,4.0,5.0]|\n",
      "|   7|   8|   4| [7.0,8.0,4.0]|\n",
      "|   2|   5|   1| [2.0,5.0,1.0]|\n",
      "|   2|   6|   2| [2.0,6.0,2.0]|\n",
      "|   2|   3|   8| [2.0,3.0,8.0]|\n",
      "|   3|   9|   1| [3.0,9.0,1.0]|\n",
      "|   4|   2|   9| [4.0,2.0,9.0]|\n",
      "|   1|   7|   1| [1.0,7.0,1.0]|\n",
      "|   6|   2|   3| [6.0,2.0,3.0]|\n",
      "|   4|   1|   9| [4.0,1.0,9.0]|\n",
      "+----+----+----+--------------+\n",
      "only showing top 20 rows\n",
      "\n"
     ]
    }
   ],
   "source": [
    "feature_df.show()"
   ]
  },
  {
   "cell_type": "code",
   "execution_count": 53,
   "id": "7ffd640a",
   "metadata": {},
   "outputs": [],
   "source": [
    "from pyspark.ml.clustering import KMeans"
   ]
  },
  {
   "cell_type": "code",
   "execution_count": 87,
   "id": "33f328e1",
   "metadata": {},
   "outputs": [],
   "source": [
    "kmeans = KMeans().setK(3)\n",
    "#kmeans = kmeans.setSeed(2)"
   ]
  },
  {
   "cell_type": "code",
   "execution_count": 88,
   "id": "4407e6cf",
   "metadata": {},
   "outputs": [],
   "source": [
    "kmodel = kmeans.fit(feature_df)"
   ]
  },
  {
   "cell_type": "code",
   "execution_count": 89,
   "id": "ee347f69",
   "metadata": {},
   "outputs": [
    {
     "data": {
      "text/plain": [
       "[array([80.        , 79.20833333, 78.29166667]),\n",
       " array([35.88461538, 31.46153846, 34.42307692]),\n",
       " array([5.12, 5.84, 4.84])]"
      ]
     },
     "execution_count": 89,
     "metadata": {},
     "output_type": "execute_result"
    }
   ],
   "source": [
    "kmodel.clusterCenters()"
   ]
  },
  {
   "cell_type": "code",
   "execution_count": 96,
   "id": "535b10d1",
   "metadata": {},
   "outputs": [],
   "source": [
    "output = kmodel.transform(feature_df)"
   ]
  },
  {
   "cell_type": "code",
   "execution_count": 97,
   "id": "5e10f504",
   "metadata": {},
   "outputs": [
    {
     "name": "stdout",
     "output_type": "stream",
     "text": [
      "+----+----+----+-----------------+----------+\n",
      "|col1|col2|col3|         features|prediction|\n",
      "+----+----+----+-----------------+----------+\n",
      "|   7|   4|   1|    [7.0,4.0,1.0]|         2|\n",
      "|   7|   7|   9|    [7.0,7.0,9.0]|         2|\n",
      "|   7|   9|   6|    [7.0,9.0,6.0]|         2|\n",
      "|   1|   6|   5|    [1.0,6.0,5.0]|         2|\n",
      "|   6|   7|   7|    [6.0,7.0,7.0]|         2|\n",
      "|   7|   9|   4|    [7.0,9.0,4.0]|         2|\n",
      "|   7|  10|   6|   [7.0,10.0,6.0]|         2|\n",
      "|   7|   8|   2|    [7.0,8.0,2.0]|         2|\n",
      "|   8|   3|   8|    [8.0,3.0,8.0]|         2|\n",
      "|   4|  10|   5|   [4.0,10.0,5.0]|         2|\n",
      "|   7|   4|   5|    [7.0,4.0,5.0]|         2|\n",
      "|   7|   8|   4|    [7.0,8.0,4.0]|         2|\n",
      "|   2|   5|   1|    [2.0,5.0,1.0]|         2|\n",
      "|   2|   6|   2|    [2.0,6.0,2.0]|         2|\n",
      "|   2|   3|   8|    [2.0,3.0,8.0]|         2|\n",
      "|   3|   9|   1|    [3.0,9.0,1.0]|         2|\n",
      "|   4|   2|   9|    [4.0,2.0,9.0]|         2|\n",
      "|   1|   7|   1|    [1.0,7.0,1.0]|         2|\n",
      "|   6|   2|   3|    [6.0,2.0,3.0]|         2|\n",
      "|   4|   1|   9|    [4.0,1.0,9.0]|         2|\n",
      "|   4|   8|   5|    [4.0,8.0,5.0]|         2|\n",
      "|   6|   6|   7|    [6.0,6.0,7.0]|         2|\n",
      "|   4|   6|   2|    [4.0,6.0,2.0]|         2|\n",
      "|   8|   1|   1|    [8.0,1.0,1.0]|         2|\n",
      "|   7|   5|  10|   [7.0,5.0,10.0]|         2|\n",
      "|  17|  25|  21| [17.0,25.0,21.0]|         1|\n",
      "|  15|  23|  32| [15.0,23.0,32.0]|         1|\n",
      "|  42|  25|  45| [42.0,25.0,45.0]|         1|\n",
      "|  41|  47|  21| [41.0,47.0,21.0]|         1|\n",
      "|  37|  20|  27| [37.0,20.0,27.0]|         1|\n",
      "|  40|  18|  26| [40.0,18.0,26.0]|         1|\n",
      "|  41|  28|  50| [41.0,28.0,50.0]|         1|\n",
      "|  32|  25|  40| [32.0,25.0,40.0]|         1|\n",
      "|  24|  29|  35| [24.0,29.0,35.0]|         1|\n",
      "|  47|  18|  47| [47.0,18.0,47.0]|         1|\n",
      "|  36|  42|  45| [36.0,42.0,45.0]|         1|\n",
      "|  49|  29|  15| [49.0,29.0,15.0]|         1|\n",
      "|  47|  39|  22| [47.0,39.0,22.0]|         1|\n",
      "|  38|  27|  25| [38.0,27.0,25.0]|         1|\n",
      "|  45|  23|  40| [45.0,23.0,40.0]|         1|\n",
      "|  23|  36|  19| [23.0,36.0,19.0]|         1|\n",
      "|  47|  40|  50| [47.0,40.0,50.0]|         1|\n",
      "|  37|  30|  40| [37.0,30.0,40.0]|         1|\n",
      "|  42|  48|  41| [42.0,48.0,41.0]|         1|\n",
      "|  29|  31|  21| [29.0,31.0,21.0]|         1|\n",
      "|  36|  39|  48| [36.0,39.0,48.0]|         1|\n",
      "|  50|  24|  31| [50.0,24.0,31.0]|         1|\n",
      "|  42|  44|  37| [42.0,44.0,37.0]|         1|\n",
      "|  37|  39|  46| [37.0,39.0,46.0]|         1|\n",
      "|  22|  40|  30| [22.0,40.0,30.0]|         1|\n",
      "|  17|  29|  41| [17.0,29.0,41.0]|         1|\n",
      "|  85| 100|  69|[85.0,100.0,69.0]|         0|\n",
      "|  68|  76|  67| [68.0,76.0,67.0]|         0|\n",
      "|  76|  70|  93| [76.0,70.0,93.0]|         0|\n",
      "|  62|  66|  91| [62.0,66.0,91.0]|         0|\n",
      "|  83|  93|  76| [83.0,93.0,76.0]|         0|\n",
      "|  95|  72|  63| [95.0,72.0,63.0]|         0|\n",
      "|  75|  94|  95| [75.0,94.0,95.0]|         0|\n",
      "|  83|  72|  80| [83.0,72.0,80.0]|         0|\n",
      "|  93|  87|  76| [93.0,87.0,76.0]|         0|\n",
      "|  86|  93|  63| [86.0,93.0,63.0]|         0|\n",
      "|  97|  82|  75| [97.0,82.0,75.0]|         0|\n",
      "|  61|  74|  74| [61.0,74.0,74.0]|         0|\n",
      "|  84|  90| 100|[84.0,90.0,100.0]|         0|\n",
      "|  77|  67|  97| [77.0,67.0,97.0]|         0|\n",
      "|  61|  82|  73| [61.0,82.0,73.0]|         0|\n",
      "|  81|  60|  69| [81.0,60.0,69.0]|         0|\n",
      "|  67|  80|  98| [67.0,80.0,98.0]|         0|\n",
      "|  94|  82|  60| [94.0,82.0,60.0]|         0|\n",
      "|  69|  73|  74| [69.0,73.0,74.0]|         0|\n",
      "|  74|  96|  80| [74.0,96.0,80.0]|         0|\n",
      "|  86|  62|  61| [86.0,62.0,61.0]|         0|\n",
      "|  88|  68|  95| [88.0,68.0,95.0]|         0|\n",
      "|  99|  67|  80| [99.0,67.0,80.0]|         0|\n",
      "|  76|  95|  70| [76.0,95.0,70.0]|         0|\n",
      "+----+----+----+-----------------+----------+\n",
      "\n"
     ]
    }
   ],
   "source": [
    "output.show(80)"
   ]
  },
  {
   "cell_type": "code",
   "execution_count": 99,
   "id": "40b0cc0d",
   "metadata": {},
   "outputs": [
    {
     "data": {
      "text/plain": [
       "1"
      ]
     },
     "execution_count": 99,
     "metadata": {},
     "output_type": "execute_result"
    }
   ],
   "source": [
    "from pyspark.ml.linalg import Vectors\n",
    "\n",
    "kmodel.predict(Vectors.dense([40.0,30.0,42.0]))"
   ]
  },
  {
   "cell_type": "code",
   "execution_count": 84,
   "id": "ffcd8ddc",
   "metadata": {},
   "outputs": [
    {
     "name": "stdout",
     "output_type": "stream",
     "text": [
      "CPU times: user 86.7 ms, sys: 9.65 ms, total: 96.3 ms\n",
      "Wall time: 3.12 s\n"
     ]
    }
   ],
   "source": [
    "%%time\n",
    "from pyspark.ml.evaluation import ClusteringEvaluator\n",
    "\n",
    "silhouette_score = []\n",
    "\n",
    "evaluator = ClusteringEvaluator(predictionCol = 'prediction', featuresCol = 'features', metricName = 'silhouette', distanceMeasure='squaredEuclidean')\n",
    "\n",
    "for i in range(2,10):\n",
    "    kmeans = KMeans().setK(i)\n",
    "    kmodel = kmeans.fit(feature_df)\n",
    "    output = kmodel.transform(feature_df)\n",
    "    \n",
    "\n",
    "    silhouette_score.append((i,evaluator.evaluate(output)))"
   ]
  },
  {
   "cell_type": "code",
   "execution_count": 82,
   "id": "be8525fb",
   "metadata": {},
   "outputs": [
    {
     "name": "stdout",
     "output_type": "stream",
     "text": [
      "CPU times: user 3 µs, sys: 1 µs, total: 4 µs\n",
      "Wall time: 6.68 µs\n"
     ]
    },
    {
     "data": {
      "text/plain": [
       "[(2, 0.8467387149751704),\n",
       " (3, 0.8540025504534153),\n",
       " (4, 0.7480719929541821),\n",
       " (5, 0.7298593774153032),\n",
       " (6, 0.6172579772315678),\n",
       " (7, 0.6205845589347845),\n",
       " (8, 0.5680366469163016),\n",
       " (9, 0.6170296355060033)]"
      ]
     },
     "execution_count": 82,
     "metadata": {},
     "output_type": "execute_result"
    }
   ],
   "source": [
    "%%time\n",
    "silhouette_score"
   ]
  },
  {
   "cell_type": "markdown",
   "id": "29227d5d",
   "metadata": {},
   "source": [
    "# Example 2"
   ]
  },
  {
   "cell_type": "code",
   "execution_count": null,
   "id": "408a1891",
   "metadata": {},
   "outputs": [],
   "source": []
  }
 ],
 "metadata": {
  "kernelspec": {
   "display_name": "Python 3 (ipykernel)",
   "language": "python",
   "name": "python3"
  },
  "language_info": {
   "codemirror_mode": {
    "name": "ipython",
    "version": 3
   },
   "file_extension": ".py",
   "mimetype": "text/x-python",
   "name": "python",
   "nbconvert_exporter": "python",
   "pygments_lexer": "ipython3",
   "version": "3.8.10"
  }
 },
 "nbformat": 4,
 "nbformat_minor": 5
}
